{
 "cells": [
  {
   "cell_type": "markdown",
   "id": "5294cedc",
   "metadata": {},
   "source": [
    "# Numpy"
   ]
  },
  {
   "cell_type": "code",
   "execution_count": 152,
   "id": "f1190a0c",
   "metadata": {},
   "outputs": [],
   "source": [
    "import numpy as np"
   ]
  },
  {
   "cell_type": "code",
   "execution_count": 153,
   "id": "5b7f9529",
   "metadata": {},
   "outputs": [],
   "source": [
    "my_list=[1,2,3,4,5,6,7,8,9,10]\n",
    "arr=np.array(my_list)"
   ]
  },
  {
   "cell_type": "code",
   "execution_count": 154,
   "id": "84d7f0a1",
   "metadata": {},
   "outputs": [
    {
     "data": {
      "text/plain": [
       "numpy.ndarray"
      ]
     },
     "execution_count": 154,
     "metadata": {},
     "output_type": "execute_result"
    }
   ],
   "source": [
    "type(arr)"
   ]
  },
  {
   "cell_type": "code",
   "execution_count": 155,
   "id": "f38c254b",
   "metadata": {},
   "outputs": [
    {
     "name": "stdout",
     "output_type": "stream",
     "text": [
      "[ 1  2  3  4  5  6  7  8  9 10]\n"
     ]
    }
   ],
   "source": [
    "print(arr)"
   ]
  },
  {
   "cell_type": "code",
   "execution_count": 156,
   "id": "31633af4",
   "metadata": {},
   "outputs": [
    {
     "data": {
      "text/plain": [
       "array([[ 1,  2,  3,  4,  5,  6,  7,  8,  9, 10]])"
      ]
     },
     "execution_count": 156,
     "metadata": {},
     "output_type": "execute_result"
    }
   ],
   "source": [
    "arr.reshape(1,-1)"
   ]
  },
  {
   "cell_type": "code",
   "execution_count": 157,
   "id": "487369f9",
   "metadata": {},
   "outputs": [
    {
     "data": {
      "text/plain": [
       "(10,)"
      ]
     },
     "execution_count": 157,
     "metadata": {},
     "output_type": "execute_result"
    }
   ],
   "source": [
    "arr.shape"
   ]
  },
  {
   "cell_type": "code",
   "execution_count": 158,
   "id": "84cf7aed",
   "metadata": {},
   "outputs": [
    {
     "data": {
      "text/plain": [
       "array([[ 1,  2,  3,  4,  5],\n",
       "       [ 6,  7,  8,  9, 10]])"
      ]
     },
     "execution_count": 158,
     "metadata": {},
     "output_type": "execute_result"
    }
   ],
   "source": [
    "##  This is modifing structure of a arr\n",
    "arr.reshape(2,5)   \n"
   ]
  },
  {
   "cell_type": "code",
   "execution_count": 159,
   "id": "ecf321a3",
   "metadata": {},
   "outputs": [
    {
     "data": {
      "text/plain": [
       "array([[ 1,  2],\n",
       "       [ 3,  4],\n",
       "       [ 5,  6],\n",
       "       [ 7,  8],\n",
       "       [ 9, 10]])"
      ]
     },
     "execution_count": 159,
     "metadata": {},
     "output_type": "execute_result"
    }
   ],
   "source": [
    "arr.reshape(5,2)"
   ]
  },
  {
   "cell_type": "code",
   "execution_count": 160,
   "id": "aecf8e5a",
   "metadata": {},
   "outputs": [
    {
     "data": {
      "text/plain": [
       "10"
      ]
     },
     "execution_count": 160,
     "metadata": {},
     "output_type": "execute_result"
    }
   ],
   "source": [
    "len(arr)"
   ]
  },
  {
   "cell_type": "markdown",
   "id": "3a3ea6c0",
   "metadata": {},
   "source": [
    "# Array : Indexing\n",
    "__________________________"
   ]
  },
  {
   "cell_type": "code",
   "execution_count": 161,
   "id": "aaad5771",
   "metadata": {},
   "outputs": [],
   "source": [
    "##Accessing the array element\n",
    "\n",
    "arr=np.array([1,2,3,4,5,6,6,7,8,8,9,10])\n"
   ]
  },
  {
   "cell_type": "code",
   "execution_count": 162,
   "id": "a28889b3",
   "metadata": {},
   "outputs": [
    {
     "name": "stdout",
     "output_type": "stream",
     "text": [
      "[ 1  2  3  4  5  6  6  7  8  8  9 10]\n"
     ]
    }
   ],
   "source": [
    "print(arr)"
   ]
  },
  {
   "cell_type": "code",
   "execution_count": 163,
   "id": "b83a64bb",
   "metadata": {},
   "outputs": [
    {
     "data": {
      "text/plain": [
       "3"
      ]
     },
     "execution_count": 163,
     "metadata": {},
     "output_type": "execute_result"
    }
   ],
   "source": [
    "arr[2]"
   ]
  },
  {
   "cell_type": "code",
   "execution_count": 164,
   "id": "fb682d68",
   "metadata": {},
   "outputs": [
    {
     "data": {
      "text/plain": [
       "12"
      ]
     },
     "execution_count": 164,
     "metadata": {},
     "output_type": "execute_result"
    }
   ],
   "source": [
    "len(arr)"
   ]
  },
  {
   "cell_type": "code",
   "execution_count": 165,
   "id": "2f9c8f2e",
   "metadata": {},
   "outputs": [],
   "source": [
    "arr=arr.reshape(3,4)"
   ]
  },
  {
   "cell_type": "code",
   "execution_count": 166,
   "id": "ac676add",
   "metadata": {},
   "outputs": [
    {
     "data": {
      "text/plain": [
       "array([[ 1,  2,  3,  4],\n",
       "       [ 5,  6,  6,  7],\n",
       "       [ 8,  8,  9, 10]])"
      ]
     },
     "execution_count": 166,
     "metadata": {},
     "output_type": "execute_result"
    }
   ],
   "source": [
    "arr"
   ]
  },
  {
   "cell_type": "code",
   "execution_count": 167,
   "id": "413c8218",
   "metadata": {},
   "outputs": [
    {
     "data": {
      "text/plain": [
       "array([[ 1,  2,  3,  4],\n",
       "       [ 5,  6,  6,  7],\n",
       "       [ 8,  8,  9, 10]])"
      ]
     },
     "execution_count": 167,
     "metadata": {},
     "output_type": "execute_result"
    }
   ],
   "source": [
    "## this the accessing method in arrr\n",
    "\n",
    "arr[0:3,0:4] "
   ]
  },
  {
   "cell_type": "code",
   "execution_count": 168,
   "id": "7704890b",
   "metadata": {},
   "outputs": [
    {
     "data": {
      "text/plain": [
       "array([[ 6,  7],\n",
       "       [ 9, 10]])"
      ]
     },
     "execution_count": 168,
     "metadata": {},
     "output_type": "execute_result"
    }
   ],
   "source": [
    "## for example select 6,7,9,10\n",
    "\n",
    "arr[1:,2:]"
   ]
  },
  {
   "cell_type": "code",
   "execution_count": 169,
   "id": "985e255f",
   "metadata": {},
   "outputs": [],
   "source": [
    "arr1=np.arange(0,50,step=2)"
   ]
  },
  {
   "cell_type": "code",
   "execution_count": 170,
   "id": "a48a039b",
   "metadata": {},
   "outputs": [
    {
     "name": "stdout",
     "output_type": "stream",
     "text": [
      "[ 0  2  4  6  8 10 12 14 16 18 20 22 24 26 28 30 32 34 36 38 40 42 44 46\n",
      " 48]\n"
     ]
    }
   ],
   "source": [
    "print(arr1)"
   ]
  },
  {
   "cell_type": "code",
   "execution_count": 171,
   "id": "32d0349e",
   "metadata": {},
   "outputs": [
    {
     "data": {
      "text/plain": [
       "array([0.        , 0.02040816, 0.04081633, 0.06122449, 0.08163265,\n",
       "       0.10204082, 0.12244898, 0.14285714, 0.16326531, 0.18367347,\n",
       "       0.20408163, 0.2244898 , 0.24489796, 0.26530612, 0.28571429,\n",
       "       0.30612245, 0.32653061, 0.34693878, 0.36734694, 0.3877551 ,\n",
       "       0.40816327, 0.42857143, 0.44897959, 0.46938776, 0.48979592,\n",
       "       0.51020408, 0.53061224, 0.55102041, 0.57142857, 0.59183673,\n",
       "       0.6122449 , 0.63265306, 0.65306122, 0.67346939, 0.69387755,\n",
       "       0.71428571, 0.73469388, 0.75510204, 0.7755102 , 0.79591837,\n",
       "       0.81632653, 0.83673469, 0.85714286, 0.87755102, 0.89795918,\n",
       "       0.91836735, 0.93877551, 0.95918367, 0.97959184, 1.        ])"
      ]
     },
     "execution_count": 171,
     "metadata": {},
     "output_type": "execute_result"
    }
   ],
   "source": [
    "np.linspace(0,1,50)"
   ]
  },
  {
   "cell_type": "code",
   "execution_count": 172,
   "id": "7c6d17cf",
   "metadata": {},
   "outputs": [
    {
     "name": "stdout",
     "output_type": "stream",
     "text": [
      "[[ 1  2  3  4  5  6  6  7  8  8  9 10]]\n",
      "\n",
      "\n",
      "after replacing\n",
      "\n",
      "[[ 1  2  3  4  5  6  6  7  8  8  9 10]]\n"
     ]
    }
   ],
   "source": [
    "## copy \n",
    "arr=arr.reshape(1,12)\n",
    "print(arr)\n",
    "arr[2:]=500\n",
    "print(\"\\n\\nafter replacing\\n\")\n",
    "print(arr)"
   ]
  },
  {
   "cell_type": "code",
   "execution_count": 173,
   "id": "6fd0d34f",
   "metadata": {},
   "outputs": [
    {
     "name": "stdout",
     "output_type": "stream",
     "text": [
      "[[0 1 2 3 4]\n",
      " [5 6 7 8 9]]\n"
     ]
    }
   ],
   "source": [
    "## Creating and reshaping array\n",
    "\n",
    "arr2=np.arange(0,10).reshape(2,5)\n",
    "print(arr2)"
   ]
  },
  {
   "cell_type": "code",
   "execution_count": 174,
   "id": "8e27cf91",
   "metadata": {},
   "outputs": [
    {
     "data": {
      "text/plain": [
       "array([6, 7, 8, 9])"
      ]
     },
     "execution_count": 174,
     "metadata": {},
     "output_type": "execute_result"
    }
   ],
   "source": [
    "arr2[arr2>5]"
   ]
  },
  {
   "cell_type": "code",
   "execution_count": 175,
   "id": "0fa467fc",
   "metadata": {},
   "outputs": [
    {
     "data": {
      "text/plain": [
       "array([[  1,   4,   9,  16,  25,  36,  36,  49,  64,  64,  81, 100]])"
      ]
     },
     "execution_count": 175,
     "metadata": {},
     "output_type": "execute_result"
    }
   ],
   "source": [
    "arr*arr"
   ]
  },
  {
   "cell_type": "code",
   "execution_count": 176,
   "id": "230602a0",
   "metadata": {},
   "outputs": [
    {
     "data": {
      "text/plain": [
       "array([1., 1., 1., 1., 1., 1.])"
      ]
     },
     "execution_count": 176,
     "metadata": {},
     "output_type": "execute_result"
    }
   ],
   "source": [
    "np.ones(6)"
   ]
  },
  {
   "cell_type": "code",
   "execution_count": 177,
   "id": "3688385e",
   "metadata": {},
   "outputs": [
    {
     "data": {
      "text/plain": [
       "array([[1, 1, 1],\n",
       "       [1, 1, 1],\n",
       "       [1, 1, 1]])"
      ]
     },
     "execution_count": 177,
     "metadata": {},
     "output_type": "execute_result"
    }
   ],
   "source": [
    "np.ones((3,3),dtype=int)"
   ]
  },
  {
   "cell_type": "code",
   "execution_count": 178,
   "id": "37fb4a0e",
   "metadata": {},
   "outputs": [
    {
     "data": {
      "text/plain": [
       "array([[0.08108052, 0.59284908, 0.50730691],\n",
       "       [0.91952251, 0.75916328, 0.3964482 ],\n",
       "       [0.38198956, 0.11168884, 0.19828056]])"
      ]
     },
     "execution_count": 178,
     "metadata": {},
     "output_type": "execute_result"
    }
   ],
   "source": [
    "## random distribution \n",
    "np.random.rand(3,3)"
   ]
  },
  {
   "cell_type": "code",
   "execution_count": 179,
   "id": "7471713c",
   "metadata": {},
   "outputs": [
    {
     "name": "stdout",
     "output_type": "stream",
     "text": [
      "[[0.62190101 0.94649948 0.51104159 0.14306578 0.70229719 0.27182164\n",
      "  0.01909563 0.28217492 0.49636676 0.92634849]\n",
      " [0.79395735 0.12886151 0.62175961 0.35279981 0.92152516 0.83803568\n",
      "  0.18788011 0.88740439 0.1510109  0.42252933]\n",
      " [0.49555666 0.47038048 0.9894634  0.04961477 0.07700986 0.26520998\n",
      "  0.27349329 0.32708586 0.48116253 0.44885632]\n",
      " [0.3043214  0.30359825 0.14182818 0.94208748 0.06466962 0.99205944\n",
      "  0.09833619 0.21347135 0.86314772 0.16323588]\n",
      " [0.77855164 0.89368784 0.34787498 0.04687018 0.7777314  0.15741595\n",
      "  0.20223212 0.65101062 0.05227578 0.28434929]\n",
      " [0.20549341 0.55213735 0.48260148 0.59299585 0.72983192 0.6924811\n",
      "  0.73328046 0.30773809 0.2076642  0.04810591]\n",
      " [0.56564205 0.14145178 0.11054545 0.93350282 0.07019342 0.99081612\n",
      "  0.11124257 0.98724409 0.43012891 0.22976982]\n",
      " [0.63459489 0.8874473  0.13354831 0.93066339 0.80184924 0.21553627\n",
      "  0.53813423 0.92571656 0.7946412  0.50171198]\n",
      " [0.0403117  0.50467483 0.52094391 0.45910225 0.44649972 0.60477681\n",
      "  0.8652059  0.9714123  0.96751098 0.4510185 ]\n",
      " [0.34042707 0.28184693 0.89094894 0.26020379 0.45105348 0.05388388\n",
      "  0.60091725 0.33710396 0.12244489 0.32164166]]\n"
     ]
    }
   ],
   "source": [
    "## Always save it in variable\n",
    "arr_eg=np.random.rand(10,10)\n",
    "print(arr_eg)"
   ]
  },
  {
   "cell_type": "code",
   "execution_count": 180,
   "id": "3c633451",
   "metadata": {},
   "outputs": [
    {
     "name": "stderr",
     "output_type": "stream",
     "text": [
      "/home/beauty/.local/lib/python3.9/site-packages/seaborn/distributions.py:2619: FutureWarning: `distplot` is a deprecated function and will be removed in a future version. Please adapt your code to use either `displot` (a figure-level function with similar flexibility) or `histplot` (an axes-level function for histograms).\n",
      "  warnings.warn(msg, FutureWarning)\n"
     ]
    },
    {
     "data": {
      "text/plain": [
       "<AxesSubplot:ylabel='Density'>"
      ]
     },
     "execution_count": 180,
     "metadata": {},
     "output_type": "execute_result"
    },
    {
     "data": {
      "image/png": "[encoded data removed]",
      "text/plain": [
       "<Figure size 432x288 with 1 Axes>"
      ]
     },
     "metadata": {
      "needs_background": "light"
     },
     "output_type": "display_data"
    }
   ],
   "source": [
    "import seaborn as sns\n",
    "import pandas as pd\n",
    "sns.distplot(pd.DataFrame(arr_eg),kde=True)"
   ]
  },
  {
   "cell_type": "code",
   "execution_count": 181,
   "id": "2621619c",
   "metadata": {},
   "outputs": [
    {
     "data": {
      "text/plain": [
       "(10, 10)"
      ]
     },
     "execution_count": 181,
     "metadata": {},
     "output_type": "execute_result"
    }
   ],
   "source": [
    "arr_eg.shape"
   ]
  },
  {
   "cell_type": "code",
   "execution_count": 182,
   "id": "92707d37",
   "metadata": {},
   "outputs": [
    {
     "data": {
      "text/plain": [
       "array([0, 5, 9, 7, 3, 5, 7, 5, 7, 2])"
      ]
     },
     "execution_count": 182,
     "metadata": {},
     "output_type": "execute_result"
    }
   ],
   "source": [
    "### Random int values\n",
    "np.random.randint(0,10,10)"
   ]
  },
  {
   "cell_type": "code",
   "execution_count": 183,
   "id": "6bd44f15",
   "metadata": {},
   "outputs": [
    {
     "data": {
      "text/plain": [
       "array([[[0.93311881, 0.76248157, 0.66974974, 0.95804374, 0.72875913],\n",
       "        [0.77623177, 0.96836227, 0.99046172, 0.76452524, 0.13160152],\n",
       "        [0.60658673, 0.02705908, 0.10359176, 0.23696802, 0.40563068]],\n",
       "\n",
       "       [[0.4596156 , 0.03474401, 0.88503049, 0.14447612, 0.07048813],\n",
       "        [0.53590423, 0.16569086, 0.23208467, 0.69362321, 0.07063881],\n",
       "        [0.95205173, 0.31398952, 0.30988372, 0.2098741 , 0.21185941]]])"
      ]
     },
     "execution_count": 183,
     "metadata": {},
     "output_type": "execute_result"
    }
   ],
   "source": [
    "## Random sample values\n",
    "np.random.random_sample((2,3,5))  ## (size(no.of times),row,column)"
   ]
  },
  {
   "cell_type": "code",
   "execution_count": 184,
   "id": "1903cb17",
   "metadata": {},
   "outputs": [
    {
     "data": {
      "text/plain": [
       "array([[0, 1, 2, 3, 4],\n",
       "       [5, 6, 7, 8, 9]])"
      ]
     },
     "execution_count": 184,
     "metadata": {},
     "output_type": "execute_result"
    }
   ],
   "source": [
    "arr2"
   ]
  },
  {
   "cell_type": "code",
   "execution_count": 185,
   "id": "6fb457b0",
   "metadata": {},
   "outputs": [
    {
     "data": {
      "text/plain": [
       "(2, 5)"
      ]
     },
     "execution_count": 185,
     "metadata": {},
     "output_type": "execute_result"
    }
   ],
   "source": [
    "arr2.shape"
   ]
  },
  {
   "cell_type": "code",
   "execution_count": 186,
   "id": "5e31a444",
   "metadata": {},
   "outputs": [
    {
     "name": "stdout",
     "output_type": "stream",
     "text": [
      "[[  0   1   2   3   4]\n",
      " [  5   6   7 100   9]]\n"
     ]
    }
   ],
   "source": [
    "arr2[1,3]=100\n",
    "print(arr2)"
   ]
  },
  {
   "cell_type": "code",
   "execution_count": 197,
   "id": "ed8e1750",
   "metadata": {},
   "outputs": [
    {
     "data": {
      "text/plain": [
       "array([  5,   6,   7, 100,   9])"
      ]
     },
     "execution_count": 197,
     "metadata": {},
     "output_type": "execute_result"
    }
   ],
   "source": [
    "arr2[-1,]\n"
   ]
  },
  {
   "cell_type": "code",
   "execution_count": null,
   "id": "ee4e5e1d",
   "metadata": {},
   "outputs": [],
   "source": []
  }
 ],
 "metadata": {
  "kernelspec": {
   "display_name": "Python 3 (ipykernel)",
   "language": "python",
   "name": "python3"
  },
  "language_info": {
   "codemirror_mode": {
    "name": "ipython",
    "version": 3
   },
   "file_extension": ".py",
   "mimetype": "text/x-python",
   "name": "python",
   "nbconvert_exporter": "python",
   "pygments_lexer": "ipython3",
   "version": "3.9.7"
  }
 },
 "nbformat": 4,
 "nbformat_minor": 5
}
