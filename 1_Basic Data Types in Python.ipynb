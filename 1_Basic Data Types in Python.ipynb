{
 "cells": [
  {
   "cell_type": "markdown",
   "id": "f6d3ae74",
   "metadata": {},
   "source": [
    "# Python Tutorial:\n",
    "\n",
    "# Basic Data types "
   ]
  },
  {
   "cell_type": "code",
   "execution_count": 4,
   "id": "9cb87f74",
   "metadata": {},
   "outputs": [
    {
     "data": {
      "text/plain": [
       "2"
      ]
     },
     "execution_count": 4,
     "metadata": {},
     "output_type": "execute_result"
    }
   ],
   "source": [
    "1+1"
   ]
  },
  {
   "cell_type": "code",
   "execution_count": 5,
   "id": "263ec326",
   "metadata": {},
   "outputs": [
    {
     "data": {
      "text/plain": [
       "20"
      ]
     },
     "execution_count": 5,
     "metadata": {},
     "output_type": "execute_result"
    }
   ],
   "source": [
    "4*5"
   ]
  },
  {
   "cell_type": "code",
   "execution_count": 6,
   "id": "05885ba2",
   "metadata": {},
   "outputs": [
    {
     "data": {
      "text/plain": [
       "20"
      ]
     },
     "execution_count": 6,
     "metadata": {},
     "output_type": "execute_result"
    }
   ],
   "source": [
    "2*10"
   ]
  },
  {
   "cell_type": "code",
   "execution_count": 7,
   "id": "8e8653b7",
   "metadata": {},
   "outputs": [
    {
     "data": {
      "text/plain": [
       "2.0"
      ]
     },
     "execution_count": 7,
     "metadata": {},
     "output_type": "execute_result"
    }
   ],
   "source": [
    "10/5"
   ]
  },
  {
   "cell_type": "code",
   "execution_count": 8,
   "id": "56343dd9",
   "metadata": {},
   "outputs": [
    {
     "data": {
      "text/plain": [
       "2"
      ]
     },
     "execution_count": 8,
     "metadata": {},
     "output_type": "execute_result"
    }
   ],
   "source": [
    "10%4"
   ]
  },
  {
   "cell_type": "code",
   "execution_count": 9,
   "id": "6e314b55",
   "metadata": {},
   "outputs": [
    {
     "data": {
      "text/plain": [
       "100"
      ]
     },
     "execution_count": 9,
     "metadata": {},
     "output_type": "execute_result"
    }
   ],
   "source": [
    "10**2"
   ]
  },
  {
   "cell_type": "code",
   "execution_count": 11,
   "id": "73ea331e",
   "metadata": {},
   "outputs": [
    {
     "data": {
      "text/plain": [
       "'Beauty /nBeauty /nBeauty /nBeauty /nBeauty /nBeauty /nBeauty /nBeauty /nBeauty /nBeauty /n'"
      ]
     },
     "execution_count": 11,
     "metadata": {},
     "output_type": "execute_result"
    }
   ],
   "source": [
    "10 * 'Beauty '"
   ]
  },
  {
   "cell_type": "code",
   "execution_count": 12,
   "id": "19280999",
   "metadata": {},
   "outputs": [
    {
     "data": {
      "text/plain": [
       "float"
      ]
     },
     "execution_count": 12,
     "metadata": {},
     "output_type": "execute_result"
    }
   ],
   "source": [
    "type(10.0)"
   ]
  },
  {
   "cell_type": "code",
   "execution_count": 13,
   "id": "6e092fdc",
   "metadata": {},
   "outputs": [
    {
     "data": {
      "text/plain": [
       "bool"
      ]
     },
     "execution_count": 13,
     "metadata": {},
     "output_type": "execute_result"
    }
   ],
   "source": [
    "type(True)"
   ]
  },
  {
   "cell_type": "code",
   "execution_count": 14,
   "id": "2c24273a",
   "metadata": {},
   "outputs": [
    {
     "data": {
      "text/plain": [
       "str"
      ]
     },
     "execution_count": 14,
     "metadata": {},
     "output_type": "execute_result"
    }
   ],
   "source": [
    "type('Hello')"
   ]
  },
  {
   "cell_type": "markdown",
   "id": "c53665a9",
   "metadata": {},
   "source": [
    "# Variable assignment\n"
   ]
  },
  {
   "cell_type": "code",
   "execution_count": 15,
   "id": "bc2a2887",
   "metadata": {},
   "outputs": [],
   "source": [
    "a=10"
   ]
  },
  {
   "cell_type": "code",
   "execution_count": 20,
   "id": "5b93fc17",
   "metadata": {},
   "outputs": [],
   "source": [
    "b,c=5,8"
   ]
  },
  {
   "cell_type": "code",
   "execution_count": 22,
   "id": "737cfdc5",
   "metadata": {},
   "outputs": [
    {
     "name": "stdout",
     "output_type": "stream",
     "text": [
      "10\n",
      "0.4\n",
      "2\n"
     ]
    }
   ],
   "source": [
    "print(a*b)\n",
    "print(a/b)\n",
    "print(a%b)"
   ]
  },
  {
   "cell_type": "markdown",
   "id": "c81f49a7",
   "metadata": {},
   "source": [
    "# Various ways of printing"
   ]
  },
  {
   "cell_type": "code",
   "execution_count": 23,
   "id": "e39f8226",
   "metadata": {},
   "outputs": [
    {
     "name": "stdout",
     "output_type": "stream",
     "text": [
      "Hello\n"
     ]
    }
   ],
   "source": [
    "print(\"Hello\")"
   ]
  },
  {
   "cell_type": "code",
   "execution_count": 24,
   "id": "056ade3e",
   "metadata": {},
   "outputs": [],
   "source": [
    "first_name='Azhaku'\n",
    "last_name='durai'"
   ]
  },
  {
   "cell_type": "code",
   "execution_count": 25,
   "id": "cbde285b",
   "metadata": {},
   "outputs": [
    {
     "name": "stdout",
     "output_type": "stream",
     "text": [
      "My first name is Azhaku and last name is durai\n"
     ]
    }
   ],
   "source": [
    "print(\"My first name is {} and last name is {}\".format(first_name,last_name))"
   ]
  },
  {
   "cell_type": "code",
   "execution_count": 26,
   "id": "9449b8e0",
   "metadata": {},
   "outputs": [
    {
     "name": "stdout",
     "output_type": "stream",
     "text": [
      "My first name is Azhaku and last name is durai\n"
     ]
    }
   ],
   "source": [
    "print(\"My first name is {first} and last name is {last}\".format(first=first_name,last=last_name))"
   ]
  },
  {
   "cell_type": "markdown",
   "id": "e7c9e642",
   "metadata": {},
   "source": [
    "# Bool functions"
   ]
  },
  {
   "cell_type": "code",
   "execution_count": 4,
   "id": "c44475be",
   "metadata": {},
   "outputs": [
    {
     "data": {
      "text/plain": [
       "False"
      ]
     },
     "execution_count": 4,
     "metadata": {},
     "output_type": "execute_result"
    }
   ],
   "source": [
    "bool()"
   ]
  },
  {
   "cell_type": "code",
   "execution_count": 5,
   "id": "7d69c2c8",
   "metadata": {},
   "outputs": [
    {
     "data": {
      "text/plain": [
       "True"
      ]
     },
     "execution_count": 5,
     "metadata": {},
     "output_type": "execute_result"
    }
   ],
   "source": [
    "bool(1)"
   ]
  },
  {
   "cell_type": "code",
   "execution_count": 6,
   "id": "c5a7f319",
   "metadata": {},
   "outputs": [
    {
     "data": {
      "text/plain": [
       "bool"
      ]
     },
     "execution_count": 6,
     "metadata": {},
     "output_type": "execute_result"
    }
   ],
   "source": [
    "type(True)"
   ]
  },
  {
   "cell_type": "markdown",
   "id": "e11d82ba",
   "metadata": {},
   "source": [
    "# string functions Inbuild functions"
   ]
  },
  {
   "cell_type": "code",
   "execution_count": 28,
   "id": "fe40f3ae",
   "metadata": {},
   "outputs": [],
   "source": [
    "my_str=\"Azhaku333\""
   ]
  },
  {
   "cell_type": "code",
   "execution_count": 41,
   "id": "3d7e0306",
   "metadata": {},
   "outputs": [
    {
     "name": "stdout",
     "output_type": "stream",
     "text": [
      "True\n",
      "False\n",
      "True\n",
      "False\n",
      "False\n",
      "False\n",
      "False\n"
     ]
    }
   ],
   "source": [
    "print(my_str.isalnum())  #check if all char are numbers\n",
    "print(my_str.isalpha())  #check if all char in the string are alphabetic\n",
    "print(my_str.istitle())  #check if string contains title words(capital letter)\n",
    "print(my_str.isupper())  #check if string contains upper case\n",
    "print(my_str.islower())  #check if string contains lower case\n",
    "print(my_str.endswith(\"K\"))  #test if string endswith K\n",
    "print(my_str.startswith(\"K\"))   #test if string startswith K"
   ]
  },
  {
   "cell_type": "markdown",
   "id": "bb58b925",
   "metadata": {},
   "source": [
    "# Logical operators"
   ]
  },
  {
   "cell_type": "code",
   "execution_count": 42,
   "id": "df9133c5",
   "metadata": {},
   "outputs": [
    {
     "data": {
      "text/plain": [
       "True"
      ]
     },
     "execution_count": 42,
     "metadata": {},
     "output_type": "execute_result"
    }
   ],
   "source": [
    "True and True"
   ]
  },
  {
   "cell_type": "code",
   "execution_count": 43,
   "id": "b102b033",
   "metadata": {},
   "outputs": [
    {
     "data": {
      "text/plain": [
       "False"
      ]
     },
     "execution_count": 43,
     "metadata": {},
     "output_type": "execute_result"
    }
   ],
   "source": [
    "True and False"
   ]
  },
  {
   "cell_type": "code",
   "execution_count": 44,
   "id": "4d1a8f1f",
   "metadata": {},
   "outputs": [
    {
     "data": {
      "text/plain": [
       "True"
      ]
     },
     "execution_count": 44,
     "metadata": {},
     "output_type": "execute_result"
    }
   ],
   "source": [
    "True or False"
   ]
  },
  {
   "cell_type": "code",
   "execution_count": 45,
   "id": "1fb04abe",
   "metadata": {},
   "outputs": [
    {
     "data": {
      "text/plain": [
       "False"
      ]
     },
     "execution_count": 45,
     "metadata": {},
     "output_type": "execute_result"
    }
   ],
   "source": [
    "False or False"
   ]
  },
  {
   "cell_type": "code",
   "execution_count": 50,
   "id": "ef2c7dc2",
   "metadata": {},
   "outputs": [
    {
     "data": {
      "text/plain": [
       "True"
      ]
     },
     "execution_count": 50,
     "metadata": {},
     "output_type": "execute_result"
    }
   ],
   "source": [
    "str_example='hello world'\n",
    "my_str.istitle() or str_example.isalnum()"
   ]
  },
  {
   "cell_type": "markdown",
   "id": "e02e5925",
   "metadata": {},
   "source": [
    "# #Data types\n",
    "   - list\n",
    "   - dictionary\n",
    "   - set\n",
    "   - tuple"
   ]
  },
  {
   "cell_type": "markdown",
   "id": "4de033fa",
   "metadata": {},
   "source": [
    "# Lists:\n",
    "   A list is a data structure in python that is a mutable, or changeable, ordered sequence of elements. Each element or value that is inside of a listis called an item. Just as strings are defined as characters between quotes, lists are defined by having values between square brackets []. "
   ]
  },
  {
   "cell_type": "code",
   "execution_count": 52,
   "id": "93882bfa",
   "metadata": {},
   "outputs": [
    {
     "data": {
      "text/plain": [
       "list"
      ]
     },
     "execution_count": 52,
     "metadata": {},
     "output_type": "execute_result"
    }
   ],
   "source": [
    "type([])"
   ]
  },
  {
   "cell_type": "code",
   "execution_count": 51,
   "id": "ccb227d7",
   "metadata": {},
   "outputs": [],
   "source": [
    "list_item=[]"
   ]
  },
  {
   "cell_type": "code",
   "execution_count": 53,
   "id": "4db7a283",
   "metadata": {},
   "outputs": [
    {
     "data": {
      "text/plain": [
       "list"
      ]
     },
     "execution_count": 53,
     "metadata": {},
     "output_type": "execute_result"
    }
   ],
   "source": [
    "type(list_item)"
   ]
  },
  {
   "cell_type": "code",
   "execution_count": 54,
   "id": "00ddc73a",
   "metadata": {},
   "outputs": [],
   "source": [
    "lst=['mathematics','Chemistry',100,200,300,204]"
   ]
  },
  {
   "cell_type": "code",
   "execution_count": 55,
   "id": "9c44f490",
   "metadata": {},
   "outputs": [
    {
     "data": {
      "text/plain": [
       "6"
      ]
     },
     "execution_count": 55,
     "metadata": {},
     "output_type": "execute_result"
    }
   ],
   "source": [
    "len(lst)"
   ]
  },
  {
   "cell_type": "code",
   "execution_count": 56,
   "id": "883f6bfe",
   "metadata": {},
   "outputs": [
    {
     "data": {
      "text/plain": [
       "list"
      ]
     },
     "execution_count": 56,
     "metadata": {},
     "output_type": "execute_result"
    }
   ],
   "source": [
    "type(lst)"
   ]
  },
  {
   "cell_type": "markdown",
   "id": "812585f9",
   "metadata": {},
   "source": [
    "# Append"
   ]
  },
  {
   "cell_type": "code",
   "execution_count": 57,
   "id": "b6f7b8a3",
   "metadata": {},
   "outputs": [],
   "source": [
    "lst.append('beauty')"
   ]
  },
  {
   "cell_type": "code",
   "execution_count": 58,
   "id": "e42a4a67",
   "metadata": {},
   "outputs": [
    {
     "data": {
      "text/plain": [
       "['mathematics', 'Chemistry', 100, 200, 300, 204, 'beauty']"
      ]
     },
     "execution_count": 58,
     "metadata": {},
     "output_type": "execute_result"
    }
   ],
   "source": [
    "lst"
   ]
  },
  {
   "cell_type": "code",
   "execution_count": 59,
   "id": "06edc351",
   "metadata": {},
   "outputs": [
    {
     "data": {
      "text/plain": [
       "100"
      ]
     },
     "execution_count": 59,
     "metadata": {},
     "output_type": "execute_result"
    }
   ],
   "source": [
    "##Indexing in list\n",
    "lst[2]"
   ]
  },
  {
   "cell_type": "code",
   "execution_count": 61,
   "id": "a769a94a",
   "metadata": {},
   "outputs": [
    {
     "data": {
      "text/plain": [
       "204"
      ]
     },
     "execution_count": 61,
     "metadata": {},
     "output_type": "execute_result"
    }
   ],
   "source": [
    "lst[-2]"
   ]
  },
  {
   "cell_type": "code",
   "execution_count": 62,
   "id": "604f3264",
   "metadata": {},
   "outputs": [
    {
     "data": {
      "text/plain": [
       "['mathematics', 'Chemistry', 100, 200, 300, 204, 'beauty']"
      ]
     },
     "execution_count": 62,
     "metadata": {},
     "output_type": "execute_result"
    }
   ],
   "source": [
    "lst[:]"
   ]
  },
  {
   "cell_type": "code",
   "execution_count": 64,
   "id": "47ea7ce2",
   "metadata": {},
   "outputs": [
    {
     "data": {
      "text/plain": [
       "[200, 300, 204]"
      ]
     },
     "execution_count": 64,
     "metadata": {},
     "output_type": "execute_result"
    }
   ],
   "source": [
    "lst[3:-1]"
   ]
  },
  {
   "cell_type": "markdown",
   "id": "96d75d25",
   "metadata": {},
   "source": [
    "# Insert"
   ]
  },
  {
   "cell_type": "code",
   "execution_count": 65,
   "id": "4657b448",
   "metadata": {},
   "outputs": [],
   "source": [
    "## Insert in a specific position\n",
    "\n",
    "lst.insert(1,\"azhaku\")"
   ]
  },
  {
   "cell_type": "code",
   "execution_count": 66,
   "id": "49028365",
   "metadata": {},
   "outputs": [
    {
     "data": {
      "text/plain": [
       "['mathematics', 'azhaku', 'Chemistry', 100, 200, 300, 204, 'beauty']"
      ]
     },
     "execution_count": 66,
     "metadata": {},
     "output_type": "execute_result"
    }
   ],
   "source": [
    "lst"
   ]
  },
  {
   "cell_type": "markdown",
   "id": "1583d107",
   "metadata": {},
   "source": [
    "# Extend Method"
   ]
  },
  {
   "cell_type": "code",
   "execution_count": 73,
   "id": "b2a29b61",
   "metadata": {},
   "outputs": [],
   "source": [
    "## extend method adds the items into the list seperately without creating a nested list\n",
    "\n",
    "lst=[1,2,3,4,5,6,7]\n"
   ]
  },
  {
   "cell_type": "code",
   "execution_count": 74,
   "id": "aeaa1cc0",
   "metadata": {},
   "outputs": [],
   "source": [
    "lst.extend([8,9,10])"
   ]
  },
  {
   "cell_type": "code",
   "execution_count": 75,
   "id": "aee2eb60",
   "metadata": {},
   "outputs": [
    {
     "data": {
      "text/plain": [
       "[1, 2, 3, 4, 5, 6, 7, 8, 9, 10]"
      ]
     },
     "execution_count": 75,
     "metadata": {},
     "output_type": "execute_result"
    }
   ],
   "source": [
    "lst"
   ]
  },
  {
   "cell_type": "markdown",
   "id": "e7745909",
   "metadata": {},
   "source": [
    "# Other functions"
   ]
  },
  {
   "cell_type": "code",
   "execution_count": 76,
   "id": "8f05fe2a",
   "metadata": {},
   "outputs": [
    {
     "data": {
      "text/plain": [
       "55"
      ]
     },
     "execution_count": 76,
     "metadata": {},
     "output_type": "execute_result"
    }
   ],
   "source": [
    "## sum of list\n",
    "\n",
    "sum(lst)"
   ]
  },
  {
   "cell_type": "code",
   "execution_count": 77,
   "id": "a70ee4be",
   "metadata": {},
   "outputs": [
    {
     "data": {
      "text/plain": [
       "10"
      ]
     },
     "execution_count": 77,
     "metadata": {},
     "output_type": "execute_result"
    }
   ],
   "source": [
    "## removing a element from a list using pop()\n",
    "\n",
    "lst.pop()"
   ]
  },
  {
   "cell_type": "code",
   "execution_count": 78,
   "id": "3aa2245b",
   "metadata": {},
   "outputs": [
    {
     "data": {
      "text/plain": [
       "[1, 2, 3, 4, 5, 6, 7, 8, 9]"
      ]
     },
     "execution_count": 78,
     "metadata": {},
     "output_type": "execute_result"
    }
   ],
   "source": [
    "lst"
   ]
  },
  {
   "cell_type": "code",
   "execution_count": 79,
   "id": "df420ddf",
   "metadata": {},
   "outputs": [
    {
     "data": {
      "text/plain": [
       "1"
      ]
     },
     "execution_count": 79,
     "metadata": {},
     "output_type": "execute_result"
    }
   ],
   "source": [
    "lst.pop(0)"
   ]
  },
  {
   "cell_type": "code",
   "execution_count": 80,
   "id": "d76bd257",
   "metadata": {},
   "outputs": [
    {
     "data": {
      "text/plain": [
       "[2, 3, 4, 5, 6, 7, 8, 9]"
      ]
     },
     "execution_count": 80,
     "metadata": {},
     "output_type": "execute_result"
    }
   ],
   "source": [
    "lst"
   ]
  },
  {
   "cell_type": "code",
   "execution_count": 82,
   "id": "7ed41d5b",
   "metadata": {},
   "outputs": [
    {
     "data": {
      "text/plain": [
       "6"
      ]
     },
     "execution_count": 82,
     "metadata": {},
     "output_type": "execute_result"
    }
   ],
   "source": [
    "## count() - Counts the no.of occurrence of a item in list\n",
    "\n",
    "lst=[1,1,1,0,1,0,0,1,0,1]\n",
    "lst.count(1)"
   ]
  },
  {
   "cell_type": "code",
   "execution_count": 83,
   "id": "3ead627c",
   "metadata": {},
   "outputs": [
    {
     "data": {
      "text/plain": [
       "0"
      ]
     },
     "execution_count": 83,
     "metadata": {},
     "output_type": "execute_result"
    }
   ],
   "source": [
    "## index() it used to find where its first located\n",
    "\n",
    "lst.index(1)"
   ]
  },
  {
   "cell_type": "code",
   "execution_count": 85,
   "id": "1751ff35",
   "metadata": {},
   "outputs": [
    {
     "data": {
      "text/plain": [
       "3"
      ]
     },
     "execution_count": 85,
     "metadata": {},
     "output_type": "execute_result"
    }
   ],
   "source": [
    "lst.index(0,0,8)"
   ]
  },
  {
   "cell_type": "code",
   "execution_count": 89,
   "id": "6f0407ab",
   "metadata": {},
   "outputs": [
    {
     "data": {
      "text/plain": [
       "1"
      ]
     },
     "execution_count": 89,
     "metadata": {},
     "output_type": "execute_result"
    }
   ],
   "source": [
    "## Min and Max function in the list\n",
    "lst=[1,2,3,4,5,6,7]\n",
    "\n",
    "min(lst)"
   ]
  },
  {
   "cell_type": "code",
   "execution_count": 90,
   "id": "a95406cc",
   "metadata": {},
   "outputs": [
    {
     "data": {
      "text/plain": [
       "7"
      ]
     },
     "execution_count": 90,
     "metadata": {},
     "output_type": "execute_result"
    }
   ],
   "source": [
    "max(lst)"
   ]
  },
  {
   "cell_type": "markdown",
   "id": "fd5246f3",
   "metadata": {},
   "source": [
    "# SETS\n",
    "A set is an unordered collection data type that is iterable, mutable, and has no duplicate elements. Python's set class represents the mathematical notion of a set. This is based on a data structure known as a hash table."
   ]
  },
  {
   "cell_type": "code",
   "execution_count": 95,
   "id": "3427dae0",
   "metadata": {},
   "outputs": [
    {
     "name": "stdout",
     "output_type": "stream",
     "text": [
      "set()\n"
     ]
    },
    {
     "data": {
      "text/plain": [
       "set"
      ]
     },
     "execution_count": 95,
     "metadata": {},
     "output_type": "execute_result"
    }
   ],
   "source": [
    "##  Defining an empty set\n",
    "set_var=set()\n",
    "print(set_var)\n",
    "type(set_var)"
   ]
  },
  {
   "cell_type": "code",
   "execution_count": 97,
   "id": "2f9035c9",
   "metadata": {},
   "outputs": [],
   "source": [
    "sset={1,1,2,3,4,5}"
   ]
  },
  {
   "cell_type": "code",
   "execution_count": 98,
   "id": "5077e7f3",
   "metadata": {},
   "outputs": [
    {
     "data": {
      "text/plain": [
       "{1, 2, 3, 4, 5}"
      ]
     },
     "execution_count": 98,
     "metadata": {},
     "output_type": "execute_result"
    }
   ],
   "source": [
    "sset"
   ]
  },
  {
   "cell_type": "code",
   "execution_count": 100,
   "id": "e64cd0dc",
   "metadata": {},
   "outputs": [
    {
     "name": "stdout",
     "output_type": "stream",
     "text": [
      "{'Thor', 'Avengers', 'Ironman'}\n"
     ]
    },
    {
     "data": {
      "text/plain": [
       "set"
      ]
     },
     "execution_count": 100,
     "metadata": {},
     "output_type": "execute_result"
    }
   ],
   "source": [
    "sset={'Avengers',\"Thor\",\"Ironman\"}\n",
    "print(sset)\n",
    "type(sset)"
   ]
  },
  {
   "cell_type": "code",
   "execution_count": 101,
   "id": "6795cacf",
   "metadata": {},
   "outputs": [],
   "source": [
    "## Sets does not support indexing"
   ]
  },
  {
   "cell_type": "code",
   "execution_count": 102,
   "id": "c7229e16",
   "metadata": {},
   "outputs": [],
   "source": [
    "sset.add('Hulk')"
   ]
  },
  {
   "cell_type": "code",
   "execution_count": 103,
   "id": "94c0625e",
   "metadata": {},
   "outputs": [
    {
     "data": {
      "text/plain": [
       "{'Avengers', 'Hulk', 'Ironman', 'Thor'}"
      ]
     },
     "execution_count": 103,
     "metadata": {},
     "output_type": "execute_result"
    }
   ],
   "source": [
    "sset"
   ]
  },
  {
   "cell_type": "code",
   "execution_count": 118,
   "id": "a6540497",
   "metadata": {},
   "outputs": [],
   "source": [
    "set1={\"Avengers\",\"Thor\",\"Ironman\"}\n",
    "set2={\"Avengers\",\"Thor\",\"Ironman\",\"Caption Marvel\"}"
   ]
  },
  {
   "cell_type": "code",
   "execution_count": 119,
   "id": "6c12675c",
   "metadata": {},
   "outputs": [
    {
     "data": {
      "text/plain": [
       "{'Avengers', 'Ironman', 'Thor'}"
      ]
     },
     "execution_count": 119,
     "metadata": {},
     "output_type": "execute_result"
    }
   ],
   "source": [
    "set2.intersection(set1)"
   ]
  },
  {
   "cell_type": "code",
   "execution_count": 120,
   "id": "eb70f3e8",
   "metadata": {},
   "outputs": [
    {
     "data": {
      "text/plain": [
       "{'Avengers', 'Caption Marvel', 'Ironman', 'Thor'}"
      ]
     },
     "execution_count": 120,
     "metadata": {},
     "output_type": "execute_result"
    }
   ],
   "source": [
    "set2.union(set1)"
   ]
  },
  {
   "cell_type": "code",
   "execution_count": 121,
   "id": "1572b521",
   "metadata": {},
   "outputs": [
    {
     "data": {
      "text/plain": [
       "{'Caption Marvel'}"
      ]
     },
     "execution_count": 121,
     "metadata": {},
     "output_type": "execute_result"
    }
   ],
   "source": [
    "set2.difference(set1)"
   ]
  },
  {
   "cell_type": "code",
   "execution_count": 122,
   "id": "2ca2c35c",
   "metadata": {},
   "outputs": [],
   "source": [
    "set2.difference_update(set1)"
   ]
  },
  {
   "cell_type": "code",
   "execution_count": 123,
   "id": "e91e2659",
   "metadata": {},
   "outputs": [
    {
     "data": {
      "text/plain": [
       "{'Caption Marvel'}"
      ]
     },
     "execution_count": 123,
     "metadata": {},
     "output_type": "execute_result"
    }
   ],
   "source": [
    "set2"
   ]
  },
  {
   "cell_type": "code",
   "execution_count": 126,
   "id": "db342c12",
   "metadata": {},
   "outputs": [],
   "source": [
    "set1={\"Avengers\",\"Thor\",\"Ironman\"}\n",
    "set2={\"Avengers\",\"Thor\",\"Ironman\",\"Caption Marvel\"}"
   ]
  },
  {
   "cell_type": "code",
   "execution_count": 127,
   "id": "5bbe1df6",
   "metadata": {},
   "outputs": [],
   "source": [
    "set2.intersection_update(set1)"
   ]
  },
  {
   "cell_type": "code",
   "execution_count": 128,
   "id": "445a8e87",
   "metadata": {},
   "outputs": [
    {
     "data": {
      "text/plain": [
       "{'Avengers', 'Ironman', 'Thor'}"
      ]
     },
     "execution_count": 128,
     "metadata": {},
     "output_type": "execute_result"
    }
   ],
   "source": [
    "set2"
   ]
  },
  {
   "cell_type": "markdown",
   "id": "ce207149",
   "metadata": {},
   "source": [
    "# Dictionaries:\n",
    "   A dictionary is a collection which is unordered, changeable and indexed. In python dictionaries are written with curly brackets and they have keys and values."
   ]
  },
  {
   "cell_type": "code",
   "execution_count": 129,
   "id": "7e2d88e0",
   "metadata": {},
   "outputs": [],
   "source": [
    "## Creating a empty list\n",
    "dic={}"
   ]
  },
  {
   "cell_type": "code",
   "execution_count": 130,
   "id": "8a2d76e3",
   "metadata": {},
   "outputs": [
    {
     "data": {
      "text/plain": [
       "dict"
      ]
     },
     "execution_count": 130,
     "metadata": {},
     "output_type": "execute_result"
    }
   ],
   "source": [
    "type(dic)"
   ]
  },
  {
   "cell_type": "code",
   "execution_count": 131,
   "id": "b9bb4ecb",
   "metadata": {},
   "outputs": [],
   "source": [
    "## value does not have a key value pairs are considered as a set\n",
    "dic={1,12,3,4,5,5}"
   ]
  },
  {
   "cell_type": "code",
   "execution_count": 132,
   "id": "51cf115c",
   "metadata": {},
   "outputs": [
    {
     "data": {
      "text/plain": [
       "set"
      ]
     },
     "execution_count": 132,
     "metadata": {},
     "output_type": "execute_result"
    }
   ],
   "source": [
    "type(dic)"
   ]
  },
  {
   "cell_type": "code",
   "execution_count": 134,
   "id": "8f4d5f86",
   "metadata": {},
   "outputs": [],
   "source": [
    "## create a item with key value pair(dictionary creation)\n",
    "\n",
    "my_dict={'Car1':\"Audi\",'Car2':\"BMW\",'Car3':\"Mercidies Benz\"}"
   ]
  },
  {
   "cell_type": "code",
   "execution_count": 135,
   "id": "921772bb",
   "metadata": {},
   "outputs": [
    {
     "data": {
      "text/plain": [
       "{'Car1': 'Audi', 'Car2': 'BMW', 'Car3': 'Mercidies Benz'}"
      ]
     },
     "execution_count": 135,
     "metadata": {},
     "output_type": "execute_result"
    }
   ],
   "source": [
    "my_dict"
   ]
  },
  {
   "cell_type": "code",
   "execution_count": 136,
   "id": "f287bdb2",
   "metadata": {},
   "outputs": [
    {
     "data": {
      "text/plain": [
       "dict"
      ]
     },
     "execution_count": 136,
     "metadata": {},
     "output_type": "execute_result"
    }
   ],
   "source": [
    "type(my_dict)"
   ]
  },
  {
   "cell_type": "code",
   "execution_count": 137,
   "id": "58f5cf2d",
   "metadata": {},
   "outputs": [
    {
     "data": {
      "text/plain": [
       "'Audi'"
      ]
     },
     "execution_count": 137,
     "metadata": {},
     "output_type": "execute_result"
    }
   ],
   "source": [
    "## Indexing can be done with the help of keys\n",
    "my_dict['Car1']"
   ]
  },
  {
   "cell_type": "markdown",
   "id": "df05f3fe",
   "metadata": {},
   "source": [
    "# Loops in dictionaries\n"
   ]
  },
  {
   "cell_type": "code",
   "execution_count": 138,
   "id": "2751f67c",
   "metadata": {},
   "outputs": [
    {
     "name": "stdout",
     "output_type": "stream",
     "text": [
      "Car1\n",
      "Car2\n",
      "Car3\n"
     ]
    }
   ],
   "source": [
    "for x in my_dict:\n",
    "    print(x)"
   ]
  },
  {
   "cell_type": "code",
   "execution_count": 139,
   "id": "8eb5d629",
   "metadata": {},
   "outputs": [
    {
     "name": "stdout",
     "output_type": "stream",
     "text": [
      "Car1\n",
      "Car2\n",
      "Car3\n"
     ]
    }
   ],
   "source": [
    "for x in my_dict.keys():\n",
    "    print(x)"
   ]
  },
  {
   "cell_type": "code",
   "execution_count": 140,
   "id": "bdd07a6f",
   "metadata": {},
   "outputs": [
    {
     "name": "stdout",
     "output_type": "stream",
     "text": [
      "Audi\n",
      "BMW\n",
      "Mercidies Benz\n"
     ]
    }
   ],
   "source": [
    "for x in my_dict.values():\n",
    "    print(x)"
   ]
  },
  {
   "cell_type": "code",
   "execution_count": 141,
   "id": "bafed520",
   "metadata": {},
   "outputs": [
    {
     "name": "stdout",
     "output_type": "stream",
     "text": [
      "('Car1', 'Audi')\n",
      "('Car2', 'BMW')\n",
      "('Car3', 'Mercidies Benz')\n"
     ]
    }
   ],
   "source": [
    "for x in my_dict.items():\n",
    "    print(x)"
   ]
  },
  {
   "cell_type": "markdown",
   "id": "afb73a10",
   "metadata": {},
   "source": [
    "# Adding new elements\n"
   ]
  },
  {
   "cell_type": "code",
   "execution_count": 142,
   "id": "3e88be7d",
   "metadata": {},
   "outputs": [],
   "source": [
    "my_dict[\"Car4\"]='Maruthi'"
   ]
  },
  {
   "cell_type": "code",
   "execution_count": 143,
   "id": "af3697c3",
   "metadata": {},
   "outputs": [
    {
     "data": {
      "text/plain": [
       "{'Car1': 'Audi', 'Car2': 'BMW', 'Car3': 'Mercidies Benz', 'Car4': 'Maruthi'}"
      ]
     },
     "execution_count": 143,
     "metadata": {},
     "output_type": "execute_result"
    }
   ],
   "source": [
    "my_dict"
   ]
  },
  {
   "cell_type": "code",
   "execution_count": 144,
   "id": "3dcb9419",
   "metadata": {},
   "outputs": [],
   "source": [
    "## inserting a new value for same key\n",
    "my_dict['Car1']=\"Audi 2.0\""
   ]
  },
  {
   "cell_type": "code",
   "execution_count": 145,
   "id": "0d5c00ab",
   "metadata": {},
   "outputs": [
    {
     "data": {
      "text/plain": [
       "{'Car1': 'Audi 2.0',\n",
       " 'Car2': 'BMW',\n",
       " 'Car3': 'Mercidies Benz',\n",
       " 'Car4': 'Maruthi'}"
      ]
     },
     "execution_count": 145,
     "metadata": {},
     "output_type": "execute_result"
    }
   ],
   "source": [
    "## Inserting a same key will considered as updation\n",
    "my_dict"
   ]
  },
  {
   "cell_type": "markdown",
   "id": "d64f334b",
   "metadata": {},
   "source": [
    "# Nested Dictionary"
   ]
  },
  {
   "cell_type": "code",
   "execution_count": 147,
   "id": "3f2af0dd",
   "metadata": {},
   "outputs": [],
   "source": [
    "car1_model={\"Mercedes\":1960}\n",
    "car2_model={\"Audi\":1970}\n",
    "car3_model={\"Ambassador\":1980}\n",
    "\n",
    "car_type={\"car1\":car1_model,\"car2\":car2_model,\"car3\":car3_model}"
   ]
  },
  {
   "cell_type": "code",
   "execution_count": 148,
   "id": "4e28fd33",
   "metadata": {},
   "outputs": [
    {
     "data": {
      "text/plain": [
       "{'car1': {'Mercedes': 1960},\n",
       " 'car2': {'Audi': 1970},\n",
       " 'car3': {'Ambassador': 1980}}"
      ]
     },
     "execution_count": 148,
     "metadata": {},
     "output_type": "execute_result"
    }
   ],
   "source": [
    "car_type"
   ]
  },
  {
   "cell_type": "code",
   "execution_count": 149,
   "id": "5ccb89ea",
   "metadata": {},
   "outputs": [
    {
     "name": "stdout",
     "output_type": "stream",
     "text": [
      "{'Mercedes': 1960}\n"
     ]
    }
   ],
   "source": [
    "## Accessing the items in the dictionary\n",
    "\n",
    "print(car_type[\"car1\"])"
   ]
  },
  {
   "cell_type": "code",
   "execution_count": 150,
   "id": "b21d4341",
   "metadata": {},
   "outputs": [
    {
     "name": "stdout",
     "output_type": "stream",
     "text": [
      "1960\n"
     ]
    }
   ],
   "source": [
    "print(car_type['car1']['Mercedes'])"
   ]
  },
  {
   "cell_type": "markdown",
   "id": "39042f10",
   "metadata": {},
   "source": [
    "# #Tuple:\n",
    "\n"
   ]
  },
  {
   "cell_type": "code",
   "execution_count": 151,
   "id": "077604aa",
   "metadata": {},
   "outputs": [
    {
     "data": {
      "text/plain": [
       "tuple"
      ]
     },
     "execution_count": 151,
     "metadata": {},
     "output_type": "execute_result"
    }
   ],
   "source": [
    "type(())"
   ]
  },
  {
   "cell_type": "code",
   "execution_count": 152,
   "id": "17c62d79",
   "metadata": {},
   "outputs": [
    {
     "data": {
      "text/plain": [
       "tuple"
      ]
     },
     "execution_count": 152,
     "metadata": {},
     "output_type": "execute_result"
    }
   ],
   "source": [
    "type(tuple())"
   ]
  },
  {
   "cell_type": "code",
   "execution_count": 159,
   "id": "3494199d",
   "metadata": {},
   "outputs": [
    {
     "name": "stdout",
     "output_type": "stream",
     "text": [
      "('beauty', 'kutty', 'naveen')\n"
     ]
    }
   ],
   "source": [
    "my_tuple=('beauty','kutty','naveen')\n",
    "print(my_tuple)"
   ]
  },
  {
   "cell_type": "code",
   "execution_count": 160,
   "id": "5b741cf2",
   "metadata": {},
   "outputs": [
    {
     "ename": "TypeError",
     "evalue": "'tuple' object does not support item assignment",
     "output_type": "error",
     "traceback": [
      "\u001b[0;31m---------------------------------------------------------------------------\u001b[0m",
      "\u001b[0;31mTypeError\u001b[0m                                 Traceback (most recent call last)",
      "Input \u001b[0;32mIn [160]\u001b[0m, in \u001b[0;36m<cell line: 4>\u001b[0;34m()\u001b[0m\n\u001b[1;32m      1\u001b[0m \u001b[38;5;66;03m## In tuple, you can't update items inside it,but you can replace it  \u001b[39;00m\n\u001b[1;32m      2\u001b[0m \u001b[38;5;66;03m## with a new items fully. eg,\u001b[39;00m\n\u001b[0;32m----> 4\u001b[0m my_tuple[\u001b[38;5;241m0\u001b[39m]\u001b[38;5;241m=\u001b[39m\u001b[38;5;124m'\u001b[39m\u001b[38;5;124mazhaku\u001b[39m\u001b[38;5;124m'\u001b[39m\n",
      "\u001b[0;31mTypeError\u001b[0m: 'tuple' object does not support item assignment"
     ]
    }
   ],
   "source": [
    "## In tuple, you can't update items inside it,but you can replace it  \n",
    "## with a new items fully. eg,\n",
    "\n",
    "my_tuple[0]='azhaku'"
   ]
  },
  {
   "cell_type": "code",
   "execution_count": 161,
   "id": "411bb928",
   "metadata": {},
   "outputs": [
    {
     "data": {
      "text/plain": [
       "('beauty', 'kutty', 'naveen')"
      ]
     },
     "execution_count": 161,
     "metadata": {},
     "output_type": "execute_result"
    }
   ],
   "source": [
    "my_tuple"
   ]
  },
  {
   "cell_type": "code",
   "execution_count": 162,
   "id": "4940e770",
   "metadata": {},
   "outputs": [],
   "source": [
    "my_tuple=\"azhaku\""
   ]
  },
  {
   "cell_type": "code",
   "execution_count": 163,
   "id": "8f75aa82",
   "metadata": {},
   "outputs": [
    {
     "data": {
      "text/plain": [
       "'azhaku'"
      ]
     },
     "execution_count": 163,
     "metadata": {},
     "output_type": "execute_result"
    }
   ],
   "source": [
    "my_tuple"
   ]
  },
  {
   "cell_type": "code",
   "execution_count": null,
   "id": "b1a4d6c1",
   "metadata": {},
   "outputs": [],
   "source": []
  }
 ],
 "metadata": {
  "kernelspec": {
   "display_name": "Python 3 (ipykernel)",
   "language": "python",
   "name": "python3"
  },
  "language_info": {
   "codemirror_mode": {
    "name": "ipython",
    "version": 3
   },
   "file_extension": ".py",
   "mimetype": "text/x-python",
   "name": "python",
   "nbconvert_exporter": "python",
   "pygments_lexer": "ipython3",
   "version": "3.9.7"
  }
 },
 "nbformat": 4,
 "nbformat_minor": 5
}
